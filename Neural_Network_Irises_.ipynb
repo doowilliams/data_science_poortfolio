{
  "nbformat": 4,
  "nbformat_minor": 0,
  "metadata": {
    "colab": {
      "name": "Neural Network: Irises .ipynb",
      "provenance": [],
      "authorship_tag": "ABX9TyPOuycnSg/DDrkSTAXl7hD2",
      "include_colab_link": true
    },
    "kernelspec": {
      "name": "python3",
      "display_name": "Python 3"
    },
    "language_info": {
      "name": "python"
    }
  },
  "cells": [
    {
      "cell_type": "markdown",
      "metadata": {
        "id": "view-in-github",
        "colab_type": "text"
      },
      "source": [
        "<a href=\"https://colab.research.google.com/github/doowilliams/data_science_poortfolio/blob/main/Neural_Network_Irises_.ipynb\" target=\"_parent\"><img src=\"https://colab.research.google.com/assets/colab-badge.svg\" alt=\"Open In Colab\"/></a>"
      ]
    },
    {
      "cell_type": "code",
      "execution_count": null,
      "metadata": {
        "id": "5c3bdwEHbLvP"
      },
      "outputs": [],
      "source": [
        "# here we will import the libraries used for machine learning\n",
        "import tensorflow as tf\n",
        "from sklearn.datasets import load_iris\n",
        "from sklearn.model_selection import train_test_split\n",
        "\n",
        "# TODO use as frame=True\n",
        "X = load_iris().data\n",
        "y = load_iris().target\n",
        "\n",
        "X_train, X_test, y_train, y_test = train_test_split(X, y)\n",
        "\n",
        "train = tf.data.Dataset.from_tensor_slices((X_train, y_train))\n",
        "train = train.repeat().shuffle(1000).batch(32)\n",
        "test = tf.data.Dataset.from_tensor_slices((X_test, y_test)).batch(1)"
      ]
    },
    {
      "cell_type": "code",
      "source": [
        "model = tf.keras.Sequential([\n",
        "    tf.keras.Input((4,)),\n",
        "   tf.keras.layers.Dense(10, activation=tf.nn.relu),\n",
        "   tf.keras.layers.Dense(10, activation=tf.nn.relu),\n",
        "   tf.keras.layers.Dense(3, activation=tf.nn.softmax)\n",
        "])\n",
        "model.compile(optimizer='adam', loss='sparse_categorical_crossentropy', metrics=['accuracy'])"
      ],
      "metadata": {
        "id": "uZLMiyQqglTf"
      },
      "execution_count": null,
      "outputs": []
    },
    {
      "cell_type": "code",
      "source": [
        "model.fit(\n",
        "    train,\n",
        "    validation_data=test,\n",
        "    steps_per_epoch=150,\n",
        "    epochs=10,\n",
        ")"
      ],
      "metadata": {
        "colab": {
          "base_uri": "https://localhost:8080/"
        },
        "id": "H2b_aG-mk4Rs",
        "outputId": "1f969086-43ef-4095-d31a-f499384d6e0d"
      },
      "execution_count": null,
      "outputs": [
        {
          "output_type": "stream",
          "name": "stdout",
          "text": [
            "Epoch 1/10\n",
            "150/150 [==============================] - 1s 3ms/step - loss: 1.0524 - accuracy: 0.4425 - val_loss: 0.8169 - val_accuracy: 0.6579\n",
            "Epoch 2/10\n",
            "150/150 [==============================] - 0s 2ms/step - loss: 0.6377 - accuracy: 0.8583 - val_loss: 0.4230 - val_accuracy: 0.9474\n",
            "Epoch 3/10\n",
            "150/150 [==============================] - 0s 2ms/step - loss: 0.3911 - accuracy: 0.9677 - val_loss: 0.2474 - val_accuracy: 0.9737\n",
            "Epoch 4/10\n",
            "150/150 [==============================] - 0s 3ms/step - loss: 0.2516 - accuracy: 0.9717 - val_loss: 0.1684 - val_accuracy: 0.9737\n",
            "Epoch 5/10\n",
            "150/150 [==============================] - 0s 2ms/step - loss: 0.1717 - accuracy: 0.9802 - val_loss: 0.1336 - val_accuracy: 0.9737\n",
            "Epoch 6/10\n",
            "150/150 [==============================] - 0s 2ms/step - loss: 0.1352 - accuracy: 0.9800 - val_loss: 0.1165 - val_accuracy: 0.9737\n",
            "Epoch 7/10\n",
            "150/150 [==============================] - 0s 2ms/step - loss: 0.1062 - accuracy: 0.9819 - val_loss: 0.1046 - val_accuracy: 0.9737\n",
            "Epoch 8/10\n",
            "150/150 [==============================] - 0s 2ms/step - loss: 0.0899 - accuracy: 0.9821 - val_loss: 0.0916 - val_accuracy: 0.9737\n",
            "Epoch 9/10\n",
            "150/150 [==============================] - 0s 2ms/step - loss: 0.0800 - accuracy: 0.9812 - val_loss: 0.1109 - val_accuracy: 0.9474\n",
            "Epoch 10/10\n",
            "150/150 [==============================] - 0s 2ms/step - loss: 0.0748 - accuracy: 0.9812 - val_loss: 0.1002 - val_accuracy: 0.9737\n"
          ]
        },
        {
          "output_type": "execute_result",
          "data": {
            "text/plain": [
              "<keras.callbacks.History at 0x7f6ef9e37f90>"
            ]
          },
          "metadata": {},
          "execution_count": 13
        }
      ]
    },
    {
      "cell_type": "code",
      "source": [
        "\n",
        "predic_X = [\n",
        "            [5.1, 3.3, 1.7, 0.5],\n",
        "            [5.6, 3.0, 4.2, 1.5],\n",
        "            [6.9, 3.1, 5.4, 2.1],\n",
        "]\n",
        "predictions = model.predict(predic_X)\n",
        "[load_iris().target_names[p.argmax()] for p in predictions]"
      ],
      "metadata": {
        "colab": {
          "base_uri": "https://localhost:8080/"
        },
        "id": "bJa-iGDR1dPS",
        "outputId": "372bac1c-ed24-4386-9293-edcb1cdf841f"
      },
      "execution_count": null,
      "outputs": [
        {
          "output_type": "execute_result",
          "data": {
            "text/plain": [
              "['setosa', 'versicolor', 'virginica']"
            ]
          },
          "metadata": {},
          "execution_count": 14
        }
      ]
    },
    {
      "cell_type": "code",
      "source": [
        "predic_true_labels = [\"setosa\", \"versicolor\", \"virginica\"]\n",
        "predic_X = [\n",
        "            [5.1, 3.3, 1.7, 0.5],\n",
        "            [5.6, 3.0, 4.2, 1.5],\n",
        "            [6.9, 3.1, 5.4, 2.1],\n",
        "]\n",
        "predictions = model.predict(predic_X)\n",
        "\n",
        "for pred_dict, expected in zip(predictions, predic_true_labels):\n",
        "  predicted_index = pred_dict.argmax()\n",
        "  predicted = load_iris().target_names[predicted_index]\n",
        "  probability = pred_dict.max()\n",
        "  tick_cross = \"/\" if predicted == expected else \"x\"\n",
        "  print(f\"{tick_cross} prediction is '{predicted}' ({100 * probability: .1f}%), expepted '{expected}' \")"
      ],
      "metadata": {
        "colab": {
          "base_uri": "https://localhost:8080/"
        },
        "id": "HGOTDIBg6szK",
        "outputId": "275ad7ee-f454-4fd8-816f-e5adf33a9f0e"
      },
      "execution_count": null,
      "outputs": [
        {
          "output_type": "stream",
          "name": "stdout",
          "text": [
            "/ prediction is 'setosa' ( 98.4%), expepted 'setosa' \n",
            "/ prediction is 'versicolor' ( 92.9%), expepted 'versicolor' \n",
            "/ prediction is 'virginica' ( 91.7%), expepted 'virginica' \n"
          ]
        }
      ]
    }
  ]
}